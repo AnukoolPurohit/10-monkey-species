{
 "cells": [
  {
   "cell_type": "markdown",
   "metadata": {},
   "source": [
    "# Author: Anukool Purohit\n",
    "### Nueral Network Practice"
   ]
  },
  {
   "cell_type": "code",
   "execution_count": 1,
   "metadata": {},
   "outputs": [],
   "source": [
    "import numpy as np\n",
    "import matplotlib.pyplot as plt"
   ]
  },
  {
   "cell_type": "code",
   "execution_count": 2,
   "metadata": {},
   "outputs": [],
   "source": [
    "%matplotlib inline\n",
    "plt.rcParams['figure.figsize'] = (5.0, 4.0) # set default size of plots\n",
    "plt.rcParams['image.interpolation'] = 'nearest'\n",
    "plt.rcParams['image.cmap'] = 'gray'\n",
    "\n",
    "%load_ext autoreload\n",
    "%autoreload 2"
   ]
  },
  {
   "cell_type": "markdown",
   "metadata": {},
   "source": [
    "### Helper Functions"
   ]
  },
  {
   "cell_type": "markdown",
   "metadata": {},
   "source": [
    "##### Relu Function"
   ]
  },
  {
   "cell_type": "code",
   "execution_count": 36,
   "metadata": {},
   "outputs": [],
   "source": [
    "def relu(Z):\n",
    "    A = (Z>0)*Z\n",
    "    cache = Z\n",
    "    return A, cache"
   ]
  },
  {
   "cell_type": "code",
   "execution_count": 37,
   "metadata": {},
   "outputs": [
    {
     "name": "stdout",
     "output_type": "stream",
     "text": [
      "Z:  \n",
      "[[0.89273898]\n",
      " [1.97773187]\n",
      " [1.21019472]\n",
      " [0.00645692]\n",
      " [1.07894589]]\n",
      "Relu: \n",
      "[[0.89273898]\n",
      " [1.97773187]\n",
      " [1.21019472]\n",
      " [0.00645692]\n",
      " [1.07894589]]\n",
      "True\n",
      "[[0.89273898]\n",
      " [1.97773187]\n",
      " [1.21019472]\n",
      " [0.00645692]\n",
      " [1.07894589]]\n"
     ]
    }
   ],
   "source": [
    "Z = np.random.randn(5,1)\n",
    "print(\"Z:  \")\n",
    "print(Z)\n",
    "print(\"Relu: \")\n",
    "A, cache = relu(Z)\n",
    "print(A)\n",
    "print(Z.shape == A.shape)\n",
    "print(cache)"
   ]
  },
  {
   "cell_type": "markdown",
   "metadata": {},
   "source": [
    "##### Sigmoid Function"
   ]
  },
  {
   "cell_type": "code",
   "execution_count": 38,
   "metadata": {},
   "outputs": [],
   "source": [
    "def sigmoid(Z):\n",
    "    A = 1 / (1 + np.exp(-1 * Z))\n",
    "    assert Z.shape == A.shape\n",
    "    cache = Z\n",
    "    return A, cache"
   ]
  },
  {
   "cell_type": "code",
   "execution_count": 39,
   "metadata": {},
   "outputs": [
    {
     "name": "stdout",
     "output_type": "stream",
     "text": [
      "E.g:  \n",
      "[[ 0.68710827]\n",
      " [-0.19562406]\n",
      " [ 0.45331991]\n",
      " [ 0.03963324]\n",
      " [-0.15287954]]\n",
      "Sig: \n",
      "[[0.66532334]\n",
      " [0.45124936]\n",
      " [0.61142828]\n",
      " [0.50990701]\n",
      " [0.46185438]]\n",
      "True\n",
      "[[ 0.68710827]\n",
      " [-0.19562406]\n",
      " [ 0.45331991]\n",
      " [ 0.03963324]\n",
      " [-0.15287954]]\n"
     ]
    }
   ],
   "source": [
    "eg = np.random.randn(5,1)\n",
    "print(\"E.g:  \")\n",
    "print(eg)\n",
    "print(\"Sig: \")\n",
    "sig, cache = sigmoid(eg)\n",
    "print(sig)\n",
    "print(eg.shape == sig.shape)\n",
    "print(cache)"
   ]
  },
  {
   "cell_type": "markdown",
   "metadata": {},
   "source": [
    "## Functions for NN arch"
   ]
  },
  {
   "cell_type": "code",
   "execution_count": 5,
   "metadata": {},
   "outputs": [],
   "source": [
    "def initialize_parameters(layer_dims):\n",
    "    parameters = {}\n",
    "    L = len(layer_dims)\n",
    "    for l in range(1, L):\n",
    "        parameters['W' + str(l)] = np.random.randn(layer_dims[l], layer_dims[l-1]) * 0.01\n",
    "        parameters['b' + str(l)] = np.zeros((layer_dims[l], 1))\n",
    "        assert parameters['W' + str(l)].shape == (layer_dims[l], layer_dims[l-1])\n",
    "        assert parameters['b' + str(l)].shape == (layer_dims[l], 1)\n",
    "    return parameters"
   ]
  },
  {
   "cell_type": "code",
   "execution_count": 10,
   "metadata": {},
   "outputs": [
    {
     "name": "stdout",
     "output_type": "stream",
     "text": [
      "[[ 0.00835939  0.00582569 -0.00090903 -0.00398713  0.00779038]\n",
      " [-0.00384187  0.00544981  0.00173918  0.00735423 -0.00269867]\n",
      " [ 0.01041535 -0.01844487 -0.00036681  0.00692515  0.00263025]\n",
      " [-0.00424285 -0.0170494   0.02295466  0.00876038  0.00722577]]\n",
      "[[0.]\n",
      " [0.]\n",
      " [0.]\n",
      " [0.]]\n"
     ]
    }
   ],
   "source": [
    "parameters = initialize_parameters([5,4,2])\n",
    "print(parameters['W1'])\n",
    "print(parameters['b1'])"
   ]
  },
  {
   "cell_type": "markdown",
   "metadata": {},
   "source": [
    "#### Forward pass"
   ]
  },
  {
   "cell_type": "code",
   "execution_count": 11,
   "metadata": {},
   "outputs": [],
   "source": [
    "def linear_forward(A, W, b):\n",
    "    Z = np.dot(W, A) + b\n",
    "    \n",
    "    assert Z.shape == (W.shape[0], A.shape[1])\n",
    "    cache = (A, W, b)\n",
    "    return Z, cache"
   ]
  },
  {
   "cell_type": "code",
   "execution_count": 21,
   "metadata": {},
   "outputs": [
    {
     "name": "stdout",
     "output_type": "stream",
     "text": [
      "A: \n",
      "[[0.74264093]\n",
      " [0.3047762 ]\n",
      " [1.09733093]]\n",
      "Z: \n",
      "[[-0.00731285]\n",
      " [ 0.01059523]\n",
      " [ 0.0060792 ]\n",
      " [ 0.01162781]]\n",
      "Cache: \n",
      "    A: \n",
      "[[0.74264093]\n",
      " [0.3047762 ]\n",
      " [1.09733093]]\n",
      "    W: \n",
      "[[-0.01493329  0.0030884   0.00258441]\n",
      " [ 0.00819689 -0.00895411  0.00659499]\n",
      " [ 0.0010678  -0.00458897  0.00609189]\n",
      " [ 0.00877385  0.00438182  0.00344155]]\n",
      "    b: \n",
      "[[0.]\n",
      " [0.]\n",
      " [0.]\n",
      " [0.]]\n"
     ]
    }
   ],
   "source": [
    "parameters = initialize_parameters([3,4,5])\n",
    "A = np.random.randn(3,1)\n",
    "print(\"A: \")\n",
    "print(A)\n",
    "W = parameters['W1']\n",
    "b = parameters['b1']\n",
    "Z, cache = linear_forward(A, W, b)\n",
    "print(\"Z: \")\n",
    "print(Z)\n",
    "print(\"Cache: \")\n",
    "print(\"    A: \")\n",
    "print((cache[0]))\n",
    "print(\"    W: \")\n",
    "print((cache[1]))\n",
    "print(\"    b: \")\n",
    "print((cache[2]))"
   ]
  },
  {
   "cell_type": "code",
   "execution_count": 40,
   "metadata": {},
   "outputs": [],
   "source": [
    "def linear_activation_forward(A_prev, W, b, activation):\n",
    "    if activation == 'relu':\n",
    "        Z, linear_cache = linear_forward(A_prev, W, b)\n",
    "        A, activation_cache = relu(Z)\n",
    "    elif activation == 'sigmoid':\n",
    "        Z, linear_cache = linear_forward(A_prev, W, b)\n",
    "        A, activation_cache = sigmoid(Z)\n",
    "    assert A.shape == (W.shape[0], A_prev.shape[1])\n",
    "    cache = (linear_cache, activation_cache)\n",
    "    return A, cache\n",
    "        "
   ]
  },
  {
   "cell_type": "code",
   "execution_count": 47,
   "metadata": {},
   "outputs": [
    {
     "name": "stdout",
     "output_type": "stream",
     "text": [
      "A_prev: \n",
      "[[ 0.09280884]\n",
      " [-1.69382332]\n",
      " [ 2.80735815]]\n",
      "Z: \n",
      "[[-0.02670398]\n",
      " [ 0.00836594]\n",
      " [-0.01905504]\n",
      " [ 0.00521515]]\n",
      "A: \n",
      "[[-0.        ]\n",
      " [ 0.00836594]\n",
      " [-0.        ]\n",
      " [ 0.00521515]]\n",
      "Cache: \n",
      "((array([[ 0.09280884],\n",
      "       [-1.69382332],\n",
      "       [ 2.80735815]]), array([[-0.00257981,  0.01223437, -0.00204523],\n",
      "       [-0.01606265, -0.00283793,  0.00179875],\n",
      "       [ 0.0137368 ,  0.00306648, -0.0053915 ],\n",
      "       [-0.01302917, -0.00739671, -0.00217441]]), array([[0.],\n",
      "       [0.],\n",
      "       [0.],\n",
      "       [0.]])), array([[-0.02670398],\n",
      "       [ 0.00836594],\n",
      "       [-0.01905504],\n",
      "       [ 0.00521515]]))\n"
     ]
    }
   ],
   "source": [
    "parameters = initialize_parameters([3,4,5])\n",
    "A_prev = np.random.randn(3,1)\n",
    "W = parameters['W1']\n",
    "b = parameters['b1']\n",
    "A, cache = linear_activation_forward(A_prev, W, b, activation='relu')\n",
    "print(\"A_prev: \")\n",
    "print(A_prev)\n",
    "print(\"Z: \")\n",
    "print(cache[1])\n",
    "print(\"A: \")\n",
    "print(A)\n",
    "print(\"Cache: \")\n",
    "print(cache)\n",
    "# print(\"    A: \")\n",
    "# print((cache[0][0]))\n",
    "# print(\"    W: \")\n",
    "# print((cache[0][1]))\n",
    "# print(\"    b: \")\n",
    "# print((cache[0][2]))\n",
    "# print(\"    Z: \")\n",
    "# print((cache[1]))"
   ]
  },
  {
   "cell_type": "code",
   "execution_count": 48,
   "metadata": {},
   "outputs": [],
   "source": [
    "def full_forward_pass(X, parameters):\n",
    "    caches = []\n",
    "    A = X\n",
    "    L = len(parameters) // 2\n",
    "    \n",
    "    for l in range(1, L):\n",
    "        A, cache = linear_activation_forward(A, parameters['W' + str(l)], parameters['b'+ str(l)], activation = 'relu')\n",
    "        caches.append(cache)\n",
    "    \n",
    "    AL, cache = linear_activation_forward(A, parameters['W' + str(L)], parameters['b' + str(L)], activation = 'sigmoid')\n",
    "    caches.append(cache)\n",
    "    return AL, caches"
   ]
  },
  {
   "cell_type": "code",
   "execution_count": 51,
   "metadata": {},
   "outputs": [
    {
     "name": "stdout",
     "output_type": "stream",
     "text": [
      "AL:  \n",
      "[[0.5]\n",
      " [0.5]]\n",
      "caches:\n",
      "[((array([[ 0.96073521],\n",
      "       [-0.16074361],\n",
      "       [ 2.41761043]]), array([[ 0.02629559, -0.00852992,  0.01242636],\n",
      "       [ 0.00385401, -0.01057975,  0.00394378],\n",
      "       [-0.00276041,  0.01463035,  0.00998712],\n",
      "       [-0.01249207, -0.00131497, -0.00163189],\n",
      "       [-0.01049919, -0.00855673, -0.00129313]]), array([[0.],\n",
      "       [0.],\n",
      "       [0.],\n",
      "       [0.],\n",
      "       [0.]])), array([[ 0.05667632],\n",
      "       [ 0.01493783],\n",
      "       [ 0.0191412 ],\n",
      "       [-0.01573548],\n",
      "       [-0.01183779]])), ((array([[ 0.05667632],\n",
      "       [ 0.01493783],\n",
      "       [ 0.0191412 ],\n",
      "       [-0.        ],\n",
      "       [-0.        ]]), array([[ 0.00406451, -0.00544831, -0.0105896 , -0.01776958, -0.01007817],\n",
      "       [ 0.00966627, -0.02335288,  0.0114844 , -0.01174214,  0.00215076],\n",
      "       [ 0.00814701, -0.00477832, -0.00481156, -0.00818461, -0.00068055],\n",
      "       [ 0.00502993,  0.00202496,  0.00890821,  0.00672906, -0.00145146],\n",
      "       [-0.00495215, -0.01495972, -0.00446847,  0.01255817, -0.00351346],\n",
      "       [-0.00405677, -0.00833927,  0.00339579, -0.00129053,  0.00555257],\n",
      "       [-0.00984995,  0.01741338,  0.02036269,  0.00844488, -0.00121389],\n",
      "       [ 0.0030691 ,  0.0018338 ,  0.00378982, -0.00920828,  0.00024594]]), array([[0.],\n",
      "       [0.],\n",
      "       [0.],\n",
      "       [0.],\n",
      "       [0.],\n",
      "       [0.],\n",
      "       [0.],\n",
      "       [0.]])), array([[-5.37223002e-05],\n",
      "       [ 4.18832814e-04],\n",
      "       [ 2.98265946e-04],\n",
      "       [ 4.85840417e-04],\n",
      "       [-5.89667365e-04],\n",
      "       [-2.89494036e-04],\n",
      "       [ 9.16255670e-05],\n",
      "       [ 2.73880433e-04]])), ((array([[-0.00000000e+00],\n",
      "       [ 4.18832814e-04],\n",
      "       [ 2.98265946e-04],\n",
      "       [ 4.85840417e-04],\n",
      "       [-0.00000000e+00],\n",
      "       [-0.00000000e+00],\n",
      "       [ 9.16255670e-05],\n",
      "       [ 2.73880433e-04]]), array([[-2.71046944e-03, -2.04376207e-02,  9.13588020e-03,\n",
      "        -1.03345014e-02,  2.55082863e-03,  8.83695908e-03,\n",
      "         7.33472260e-03, -2.53480952e-04],\n",
      "       [-1.02900077e-02, -4.71284433e-04, -3.84016887e-03,\n",
      "        -2.92082925e-03, -3.74405404e-03, -1.17428701e-02,\n",
      "        -1.15109205e-02,  2.45092952e-04],\n",
      "       [ 6.75594762e-04,  1.60915101e-04,  7.25600319e-05,\n",
      "        -4.03413029e-03, -1.16322132e-02, -8.27494768e-04,\n",
      "        -1.72196462e-02, -4.49574606e-03],\n",
      "       [-1.13850593e-02, -6.58743256e-04,  3.35982853e-03,\n",
      "         1.46630639e-02,  6.81006048e-03, -2.16063155e-03,\n",
      "        -9.26264861e-03,  7.16797978e-03],\n",
      "       [-5.91319263e-03,  7.48187054e-03,  1.00565271e-02,\n",
      "        -3.07249645e-03,  9.33649021e-03,  9.60230602e-03,\n",
      "         2.89298567e-04,  6.95038224e-05],\n",
      "       [-1.33162469e-03,  4.96282098e-03, -5.69329897e-03,\n",
      "         8.45165835e-03, -6.65386203e-03,  7.43479416e-03,\n",
      "         8.72731243e-05,  9.95649227e-03]]), array([[0.],\n",
      "       [0.],\n",
      "       [0.],\n",
      "       [0.],\n",
      "       [0.],\n",
      "       [0.]])), array([[-1.02533181e-05],\n",
      "       [-3.74940634e-06],\n",
      "       [-4.67996156e-06],\n",
      "       [ 8.96460219e-06],\n",
      "       [ 4.68597239e-06],\n",
      "       [ 7.22151716e-06]])), ((array([[-0.00000000e+00],\n",
      "       [-0.00000000e+00],\n",
      "       [-0.00000000e+00],\n",
      "       [ 8.96460219e-06],\n",
      "       [ 4.68597239e-06],\n",
      "       [ 7.22151716e-06]]), array([[-0.00258988, -0.00445507, -0.01157756, -0.00229174, -0.00061004,\n",
      "        -0.02902955],\n",
      "       [-0.00131209, -0.00478621, -0.00890936, -0.00729397,  0.00600425,\n",
      "        -0.00619918],\n",
      "       [ 0.00412859, -0.00347808,  0.00585971, -0.01581129,  0.01439218,\n",
      "        -0.00503482]]), array([[0.],\n",
      "       [0.],\n",
      "       [0.]])), array([[-2.33040533e-07],\n",
      "       [-8.20193216e-08],\n",
      "       [-1.10659606e-07]])), ((array([[-0.],\n",
      "       [-0.],\n",
      "       [-0.]]), array([[ 0.00308686,  0.01453125,  0.00077366],\n",
      "       [ 0.00714121, -0.00734111,  0.01245619]]), array([[0.],\n",
      "       [0.]])), array([[0.],\n",
      "       [0.]]))]\n"
     ]
    }
   ],
   "source": [
    "layer_dims = [3,5,8,6,3,2]\n",
    "parameters = initialize_parameters(layer_dims)\n",
    "X = np.random.randn(3,1)\n",
    "AL, caches = full_forward_pass(X, parameters)\n",
    "print(\"AL:  \")\n",
    "print(AL)\n",
    "print(\"caches:\")\n",
    "print(caches)"
   ]
  },
  {
   "cell_type": "code",
   "execution_count": null,
   "metadata": {},
   "outputs": [],
   "source": []
  }
 ],
 "metadata": {
  "kernelspec": {
   "display_name": "Python 3",
   "language": "python",
   "name": "python3"
  },
  "language_info": {
   "codemirror_mode": {
    "name": "ipython",
    "version": 3
   },
   "file_extension": ".py",
   "mimetype": "text/x-python",
   "name": "python",
   "nbconvert_exporter": "python",
   "pygments_lexer": "ipython3",
   "version": "3.6.4"
  }
 },
 "nbformat": 4,
 "nbformat_minor": 2
}
